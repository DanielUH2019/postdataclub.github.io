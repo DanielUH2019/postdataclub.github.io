{
 "cells": [
  {
   "cell_type": "markdown",
   "metadata": {},
   "source": [
    "Cargando los datos desde el fichero JSON con funciones para cada caso.\n"
   ]
  },
  {
   "cell_type": "code",
   "execution_count": null,
   "metadata": {
    "collapsed": false,
    "scrolled": true
   },
   "outputs": [],
   "source": [
    "import json\n",
    "js = json.load(open('data-fill.json','r'))\n",
    "\n",
    "def get_panam_info(country,medal,org=0):\n",
    "    x = []\n",
    "    y = []\n",
    "    m = js['countries'][country]['panam']\n",
    "    for i in range(4,18):\n",
    "        if js['countries'][country]['panam'][str(i)]!=None and js['countries'][country]['panam'][str(i-1)]!=None:\n",
    "            t = [i]+[m[str(i)][3]]+m[str(i-1)]+[i-1]+m[str(i-2)]+[i-2]+m[str(i-3)] + [i-3]\n",
    "            x.append(t)\n",
    "            if medal=='oro':\n",
    "                y.append(m[str(i)][0])\n",
    "            elif medal=='plata':\n",
    "                y.append(m[str(i)][1])\n",
    "            if medal=='bronce':\n",
    "                y.append(m[str(i)][2])\n",
    "    p = [18]+[org]+ m['17']+[17]+m['16']+[16]+m['15'] + [15]\n",
    "    #print p\n",
    "    return x,y,p\n",
    "\n",
    "def get_olympic_info(country,medal,org=0):\n",
    "    x = []\n",
    "    y = []\n",
    "    p = js['pairings']\n",
    "    o = js['countries'][country]['olympic']\n",
    "    m = js['countries'][country]['panam']\n",
    "    for i in range(4,18):\n",
    "        if js['countries'][country]['panam'][str(i)]!=None and js['countries'][country]['panam'][str(i-1)]!=None:\n",
    "            to = o[str(p[str(i)][1])]+[int(p[str(i)][1])]+o[str(p[str(i-1)][1])]+[int(p[str(i-1)][1])]+o[str(p[str(i-2)][1])]+[int(p[str(i-2)][1])]\n",
    "            t = [i]+[m[str(i)][3]]+m[str(i-1)]+[i-1]+m[str(i-2)]+[i-2]+m[str(i-3)]+[i-3]+to\n",
    "            x.append(t)\n",
    "            if medal=='oro':\n",
    "                y.append(m[str(i)][0])\n",
    "            elif medal=='plata':\n",
    "                y.append(m[str(i)][1])\n",
    "            if medal=='bronce':\n",
    "                y.append(m[str(i)][2])\n",
    "    p = [18]+[org]+ m['17']+[17]+m['16']+[16]+m['15']+[15]+o['28']+[28]+o['27']+[27]+o['26']+[26]\n",
    "    return x,y,p\n",
    "\n",
    "def get_centroam_info(country,medal,org=0):\n",
    "    x = []\n",
    "    y = []\n",
    "    p = js['pairings']\n",
    "    o = js['countries'][country]['olympic']\n",
    "    m = js['countries'][country]['panam']\n",
    "    c = js['countries'][country]['centro']\n",
    "    for i in range(4,18):\n",
    "        if js['countries'][country]['panam'][str(i)]!=None and js['countries'][country]['panam'][str(i-1)]!=None:\n",
    "            tc = c[str(p[str(i)][2])]+[int(p[str(i)][2])]+c[str(p[str(i-1)][2])]+[int(p[str(i-1)][2])]+c[str(p[str(i-2)][2])]+[int(p[str(i-2)][2])]\n",
    "            to = o[str(p[str(i)][1])]+[int(p[str(i)][1])]+o[str(p[str(i-1)][1])]+[int(p[str(i-1)][1])]+o[str(p[str(i-2)][1])]+[int(p[str(i-2)][1])]\n",
    "            t = [i]+[m[str(i)][3]]+m[str(i-1)]+[i-1]+m[str(i-2)]+[i-2]+m[str(i-3)]+[i-3]+to+tc\n",
    "            x.append(t)\n",
    "            if medal=='oro':\n",
    "                y.append(m[str(i)][0])\n",
    "            elif medal=='plata':\n",
    "                y.append(m[str(i)][1])\n",
    "            if medal=='bronce':\n",
    "                y.append(m[str(i)][2])\n",
    "    p = [18]+[org]+ m['17']+[17]+m['16']+[16]+m['15']+[15]+o['28']+[28]+o['27']+[27]+o['26']+[26]+c['23']+[23]+c['22']+[22]+c['21']+[21]\n",
    "    return x,y,p\n"
   ]
  },
  {
   "cell_type": "markdown",
   "metadata": {},
   "source": [
    "Definiendo la función para predecir la cantidad de medallas. Recibe como parámetros el país, el tipo de medalla, la función para cargar los dato y si el país es organizador de los juegos o no."
   ]
  },
  {
   "cell_type": "code",
   "execution_count": null,
   "metadata": {
    "collapsed": false,
    "scrolled": true
   },
   "outputs": [],
   "source": [
    "%matplotlib inline\n",
    "\n",
    "import matplotlib\n",
    "import numpy as np\n",
    "import matplotlib.pyplot as plt\n",
    "\n",
    "from sklearn.ensemble import GradientBoostingRegressor\n",
    "from sklearn.linear_model import ElasticNet\n",
    "from sklearn.metrics import mean_absolute_error\n",
    "\n",
    "\n",
    "def predict_medal(country,medal,fdata,org=0):\n",
    "    d = fdata(country, medal)\n",
    "    \n",
    "    gb = GradientBoostingRegressor(loss=\"huber\")\n",
    "    gb.fit(d[0],d[1])\n",
    "    gb_all = gb.predict(d[0])\n",
    "    gb_pre = gb.predict(d[2])\n",
    "    gb_arr = np.append(gb_all,gb_pre)\n",
    "    gb_err_abs = mean_absolute_error(gb_all,d[1])\n",
    "    plt.plot([i[0] for i in d[0]]+[18],gb_arr, color=\"blue\",label=\"gb\")\n",
    "    \n",
    "    en = ElasticNet()\n",
    "    en.fit(d[0],d[1])\n",
    "    en_all = en.predict(d[0])\n",
    "    en_pre = en.predict(d[2])\n",
    "    en_arr = np.append(en_all,en_pre)\n",
    "    en_err_abs = mean_absolute_error(en_all,d[1])\n",
    "    plt.plot([i[0] for i in d[0]]+[18],en_arr, color=\"yellow\",label=\"en\")\n",
    "    \n",
    "    \n",
    "    m_all = [(gb_all[i]+en_all[i])/2 for i in range(0,len(gb_all))]\n",
    "    m_pre = [(gb_pre[-1]+en_pre[-1])/2]\n",
    "    m_arr = np.append(m_all,m_pre)\n",
    "    m_err_abs = mean_absolute_error(m_all,d[1])\n",
    "    plt.plot([i[0] for i in d[0]]+[18],m_arr, color=\"green\",label=\"media\")\n",
    "    \n",
    "    plt.scatter([i[0] for i in d[0]],d[1], color = 'red', label=\"real\")\n",
    "    plt.legend(loc=\"upper left\")\n",
    "    plt.xlabel(u'Edición')\n",
    "    plt.ylabel(u'Medallas de '+medal)\n",
    "    plt.savefig(country+'-'+fdata.func_name+'-'+medal+'.png')\n",
    "    plt.close()\n",
    "    \n",
    "    return m_pre[0], m_err_abs"
   ]
  },
  {
   "cell_type": "markdown",
   "metadata": {},
   "source": [
    "Predcir los pronósticos para cada país por cada tipo de medalla. En cada caso se genera la imagen de la curva de predicción."
   ]
  },
  {
   "cell_type": "code",
   "execution_count": null,
   "metadata": {
    "collapsed": false,
    "scrolled": true
   },
   "outputs": [],
   "source": [
    "pro = {}\n",
    "medals = ['oro','plata','bronce']\n",
    "\n",
    "for c in js['countries']:\n",
    "    pro[c]={'panam':{'oro':{'cant':0,'error':0},'plata':{'cant':0,'error':0},'bronce':{'cant':0,'error':0}},'olympic':{'oro':{'cant':0,'error':0},'plata':{'cant':0,'error':0},'bronce':{'cant':0,'error':0}}}\n",
    "\n",
    "    \n",
    "for c in js['countries']:\n",
    "    for m in medals:\n",
    "        if c!='pe':\n",
    "            pp = predict_medal(c,m,get_panam_info,org=0)\n",
    "            po = predict_medal(c,m,get_olympic_info,org=0)\n",
    "            pro[c]['panam'][m]['cant']=pp[0]\n",
    "            pro[c]['panam'][m]['error']=pp[1]                               \n",
    "            pro[c]['olympic'][m]['cant']=po[0]\n",
    "            pro[c]['olympic'][m]['error']=po[1]\n",
    "        else:\n",
    "            pp = predict_medal(c,m,get_panam_info,org=0)\n",
    "            po = predict_medal(c,m,get_olympic_info,org=0)\n",
    "            pro[c]['panam'][m]['cant']=pp[0]\n",
    "            pro[c]['panam'][m]['error']=pp[1]                               \n",
    "            pro[c]['olympic'][m]['cant']=po[0]\n",
    "            pro[c]['olympic'][m]['error']=po[1]"
   ]
  },
  {
   "cell_type": "markdown",
   "metadata": {},
   "source": [
    "Salvar los datos de predicción en un fuchero JSON"
   ]
  },
  {
   "cell_type": "code",
   "execution_count": null,
   "metadata": {
    "collapsed": true,
    "scrolled": true
   },
   "outputs": [],
   "source": [
    "json.dump(pro,open('prediction.json','w'))"
   ]
  },
  {
   "cell_type": "code",
   "execution_count": null,
   "metadata": {
    "collapsed": true,
    "scrolled": true
   },
   "outputs": [],
   "source": []
  }
 ],
 "metadata": {
  "kernelspec": {
   "display_name": "Python 2",
   "language": "python",
   "name": "python2"
  },
  "language_info": {
   "codemirror_mode": {
    "name": "ipython",
    "version": 2
   },
   "file_extension": ".py",
   "mimetype": "text/x-python",
   "name": "python",
   "nbconvert_exporter": "python",
   "pygments_lexer": "ipython2",
   "version": "2.7.11"
  }
 },
 "nbformat": 4,
 "nbformat_minor": 0
}
